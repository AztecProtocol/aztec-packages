{
 "cells": [
  {
   "cell_type": "markdown",
   "id": "b74d398b-764c-4a6a-ab7a-150f8ac7b66f",
   "metadata": {},
   "source": [
    "# Arithmetic Relation"
   ]
  },
  {
   "cell_type": "markdown",
   "id": "c0ce8d2d",
   "metadata": {},
   "source": [
    "Subrelation at index 0"
   ]
  },
  {
   "cell_type": "code",
   "execution_count": 9,
   "id": "b1c69fbe-ab1a-48cf-83b9-72e77784481e",
   "metadata": {},
   "outputs": [
    {
     "name": "stdout",
     "output_type": "stream",
     "text": [
      "w_l*w_r*q_m*q_arith^2*neg_half - 3*w_l*w_r*q_m*q_arith*neg_half*h + w_l*q_l*q_arith*h^3 + w_r*q_r*q_arith*h^3 + w_o*q_o*q_arith*h^3 + w_4*q_4*q_arith*h^3 + w_4_shift*q_arith^2*h^3 - w_4_shift*q_arith*h^4 + q_c*q_arith*h^4\n"
     ]
    },
    {
     "data": {
      "text/plain": [
       "{6: w_l*w_r*q_m*q_arith^2*neg_half,\n",
       " 5: -3*w_l*w_r*q_m*q_arith*neg_half,\n",
       " 3: w_l*q_l*q_arith + w_r*q_r*q_arith + w_o*q_o*q_arith + w_4*q_4*q_arith + w_4_shift*q_arith^2,\n",
       " 2: -w_4_shift*q_arith + q_c*q_arith}"
      ]
     },
     "execution_count": 9,
     "metadata": {},
     "output_type": "execute_result"
    }
   ],
   "source": [
    "R = QQ['w_l, w_r, w_o, w_4, w_4_shift, q_m, q_l, q_r, q_o, q_4, q_c, q_arith, neg_half']\n",
    "w_l, w_r, w_o, w_4, w_4_shift, q_m, q_l, q_r, q_o, q_4, q_c, q_arith, neg_half = R.gens()\n",
    "f = (q_arith - 3) * (q_m * w_r * w_l) * neg_half\n",
    "f += (q_l * w_l) + (q_r * w_r) + (q_o * w_o) + (q_4 * w_4) + q_c\n",
    "f += (q_arith - 1) * w_4_shift\n",
    "f *= q_arith\n",
    "\n",
    "print(f.homogenize())\n",
    "f.homogeneous_components()"
   ]
  },
  {
   "cell_type": "markdown",
   "id": "92848763",
   "metadata": {},
   "source": [
    "Subrelation at index 1"
   ]
  },
  {
   "cell_type": "code",
   "execution_count": 7,
   "id": "bf1d0c29",
   "metadata": {},
   "outputs": [
    {
     "name": "stdout",
     "output_type": "stream",
     "text": [
      "w_l*q_arith^3 + w_4*q_arith^3 - w_l_shift*q_arith^3 + q_m*q_arith^3 - 3*w_l*q_arith^2*h - 3*w_4*q_arith^2*h + 3*w_l_shift*q_arith^2*h - 3*q_m*q_arith^2*h + 2*w_l*q_arith*h^2 + 2*w_4*q_arith*h^2 - 2*w_l_shift*q_arith*h^2 + 2*q_m*q_arith*h^2\n"
     ]
    }
   ],
   "source": [
    "R = QQ['w_l, w_4, w_l_shift, q_m, q_arith']\n",
    "w_l, w_4, w_l_shift, q_m, q_arith = R.gens()\n",
    "f = (w_l + w_4 - w_l_shift + q_m)*(q_arith - 2)*(q_arith - 1)*q_arith\n",
    "f_h = f.homogenize()\n",
    "R_h = f_h.parent()\n",
    "w_l, w_4, w_l_shift, q_m, q_arith, h = R_h.gens()\n",
    "tmp = (w_l + w_4 - w_l_shift + q_m)*q_arith\n",
    "term = tmp * (q_arith * q_arith - 3 * q_arith * h)\n",
    "tmp += tmp\n",
    "tmp *= h * h\n",
    "term += tmp\n",
    "assert(f_h == term)\n",
    "print(f_h)"
   ]
  }
 ],
 "metadata": {
  "kernelspec": {
   "display_name": "SageMath 10.4",
   "language": "sage",
   "name": "sagemath"
  },
  "language_info": {
   "codemirror_mode": {
    "name": "ipython",
    "version": 3
   },
   "file_extension": ".py",
   "mimetype": "text/x-python",
   "name": "python",
   "nbconvert_exporter": "python",
   "pygments_lexer": "ipython3",
   "version": "3.12.5"
  }
 },
 "nbformat": 4,
 "nbformat_minor": 5
}
