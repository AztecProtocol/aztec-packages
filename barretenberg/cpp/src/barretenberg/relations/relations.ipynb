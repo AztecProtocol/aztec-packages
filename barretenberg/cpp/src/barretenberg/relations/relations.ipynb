{
 "cells": [
  {
   "cell_type": "code",
   "execution_count": 1,
   "id": "f1e3b96b",
   "metadata": {},
   "outputs": [],
   "source": [
    "%display latex"
   ]
  },
  {
   "cell_type": "markdown",
   "id": "b74d398b-764c-4a6a-ab7a-150f8ac7b66f",
   "metadata": {},
   "source": [
    "# Arithmetic Relation"
   ]
  },
  {
   "cell_type": "markdown",
   "id": "c0ce8d2d",
   "metadata": {},
   "source": [
    "Subrelation at index 0"
   ]
  },
  {
   "cell_type": "code",
   "execution_count": 2,
   "id": "1a368ff0",
   "metadata": {},
   "outputs": [
    {
     "data": {
      "text/html": [
       "<html>\\(\\displaystyle w_{l} w_{r} q_{m} q_{\\mathit{arith}}^{2} \\mathit{neg}_{\\mathit{half}} - 3 w_{l} w_{r} q_{m} q_{\\mathit{arith}} \\mathit{neg}_{\\mathit{half}} + w_{l} q_{l} q_{\\mathit{arith}} + w_{r} q_{r} q_{\\mathit{arith}} + w_{o} q_{o} q_{\\mathit{arith}} + w_{4} q_{4} q_{\\mathit{arith}} + w_{4_{\\mathit{shift}}} q_{\\mathit{arith}}^{2} - w_{4_{\\mathit{shift}}} q_{\\mathit{arith}} + q_{c} q_{\\mathit{arith}}\\)</html>"
      ],
      "text/latex": [
       "$\\displaystyle w_{l} w_{r} q_{m} q_{\\mathit{arith}}^{2} \\mathit{neg}_{\\mathit{half}} - 3 w_{l} w_{r} q_{m} q_{\\mathit{arith}} \\mathit{neg}_{\\mathit{half}} + w_{l} q_{l} q_{\\mathit{arith}} + w_{r} q_{r} q_{\\mathit{arith}} + w_{o} q_{o} q_{\\mathit{arith}} + w_{4} q_{4} q_{\\mathit{arith}} + w_{4_{\\mathit{shift}}} q_{\\mathit{arith}}^{2} - w_{4_{\\mathit{shift}}} q_{\\mathit{arith}} + q_{c} q_{\\mathit{arith}}$"
      ],
      "text/plain": [
       "w_l*w_r*q_m*q_arith^2*neg_half - 3*w_l*w_r*q_m*q_arith*neg_half + w_l*q_l*q_arith + w_r*q_r*q_arith + w_o*q_o*q_arith + w_4*q_4*q_arith + w_4_shift*q_arith^2 - w_4_shift*q_arith + q_c*q_arith"
      ]
     },
     "metadata": {},
     "output_type": "display_data"
    },
    {
     "data": {
      "text/html": [
       "<html>\\(\\displaystyle -\\frac{1}{2} w_{l} w_{r} q_{m} q_{\\mathit{arith}}^{2} + \\frac{3}{2} w_{l} w_{r} q_{m} q_{\\mathit{arith}} \\mathit{hom} + w_{l} q_{l} q_{\\mathit{arith}} \\mathit{hom}^{2} + w_{r} q_{r} q_{\\mathit{arith}} \\mathit{hom}^{2} + w_{o} q_{o} q_{\\mathit{arith}} \\mathit{hom}^{2} + w_{4} q_{4} q_{\\mathit{arith}} \\mathit{hom}^{2} + w_{4_{\\mathit{shift}}} q_{\\mathit{arith}}^{2} \\mathit{hom}^{2} - w_{4_{\\mathit{shift}}} q_{\\mathit{arith}} \\mathit{hom}^{3} + q_{c} q_{\\mathit{arith}} \\mathit{hom}^{3}\\)</html>"
      ],
      "text/latex": [
       "$\\displaystyle -\\frac{1}{2} w_{l} w_{r} q_{m} q_{\\mathit{arith}}^{2} + \\frac{3}{2} w_{l} w_{r} q_{m} q_{\\mathit{arith}} \\mathit{hom} + w_{l} q_{l} q_{\\mathit{arith}} \\mathit{hom}^{2} + w_{r} q_{r} q_{\\mathit{arith}} \\mathit{hom}^{2} + w_{o} q_{o} q_{\\mathit{arith}} \\mathit{hom}^{2} + w_{4} q_{4} q_{\\mathit{arith}} \\mathit{hom}^{2} + w_{4_{\\mathit{shift}}} q_{\\mathit{arith}}^{2} \\mathit{hom}^{2} - w_{4_{\\mathit{shift}}} q_{\\mathit{arith}} \\mathit{hom}^{3} + q_{c} q_{\\mathit{arith}} \\mathit{hom}^{3}$"
      ],
      "text/plain": [
       "-1/2*w_l*w_r*q_m*q_arith^2 + 3/2*w_l*w_r*q_m*q_arith*hom + w_l*q_l*q_arith*hom^2 + w_r*q_r*q_arith*hom^2 + w_o*q_o*q_arith*hom^2 + w_4*q_4*q_arith*hom^2 + w_4_shift*q_arith^2*hom^2 - w_4_shift*q_arith*hom^3 + q_c*q_arith*hom^3"
      ]
     },
     "metadata": {},
     "output_type": "display_data"
    }
   ],
   "source": [
    "R.<w_l, w_r, w_o, w_4, w_4_shift, q_m, q_l, q_r, q_o, q_4, q_c, q_arith, neg_half, hom> = PolynomialRing(QQ)\n",
    "f = (q_arith - 3) * (q_m * w_r * w_l) * neg_half\n",
    "f += (q_l * w_l) + (q_r * w_r) + (q_o * w_o) + (q_4 * w_4) + q_c\n",
    "f += (q_arith - 1) * w_4_shift\n",
    "f *= q_arith\n",
    "\n",
    "\n",
    "display(f)\n",
    "f_h = f(neg_half=-1/2).homogenize(hom)\n",
    "display(f_h)"
   ]
  },
  {
   "cell_type": "code",
   "execution_count": 3,
   "id": "a107f198",
   "metadata": {},
   "outputs": [],
   "source": [
    "term = q_c - w_4_shift\n",
    "term *= hom\n",
    "term += (w_l * q_l) + (w_r * q_r) + (w_o * q_o) + (w_4 * q_4) + (w_4_shift * q_arith)\n",
    "term *= hom\n",
    "tmp = w_l * w_r * q_m * (-1/2)\n",
    "term -=  tmp + tmp + tmp\n",
    "term *= hom\n",
    "term +=  tmp * q_arith\n",
    "term *= q_arith\n",
    "assert(term == f_h)\n",
    "# 13 vs 10 muls\n"
   ]
  },
  {
   "cell_type": "markdown",
   "id": "92848763",
   "metadata": {},
   "source": [
    "Subrelation at index 1"
   ]
  },
  {
   "cell_type": "code",
   "execution_count": null,
   "id": "bf1d0c29",
   "metadata": {},
   "outputs": [],
   "source": [
    "R = QQ['w_l, w_4, w_l_shift, q_m, q_arith']\n",
    "w_l, w_4, w_l_shift, q_m, q_arith = R.gens()\n",
    "f = (w_l + w_4 - w_l_shift + q_m)*(q_arith - 2)*(q_arith - 1)*q_arith\n",
    "f_h = f.homogenize()\n",
    "R_h = f_h.parent()\n",
    "w_l, w_4, w_l_shift, q_m, q_arith, h = R_h.gens()\n",
    "tmp = (w_l + w_4 - w_l_shift + q_m)*q_arith\n",
    "term = tmp * (q_arith * q_arith - 3 * q_arith * h)\n",
    "tmp += tmp\n",
    "tmp *= h * h\n",
    "term += tmp\n",
    "assert(f_h == term)\n",
    "print(f_h)"
   ]
  }
 ],
 "metadata": {
  "kernelspec": {
   "display_name": "SageMath 10.4",
   "language": "sage",
   "name": "sagemath"
  },
  "language_info": {
   "codemirror_mode": {
    "name": "ipython",
    "version": 3
   },
   "file_extension": ".py",
   "mimetype": "text/x-python",
   "name": "python",
   "nbconvert_exporter": "python",
   "pygments_lexer": "ipython3",
   "version": "3.12.5"
  }
 },
 "nbformat": 4,
 "nbformat_minor": 5
}
